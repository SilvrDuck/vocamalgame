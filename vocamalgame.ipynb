{
 "cells": [
  {
   "cell_type": "code",
   "execution_count": 29,
   "metadata": {},
   "outputs": [],
   "source": [
    "import panphon\n",
    "import numpy as np"
   ]
  },
  {
   "cell_type": "code",
   "execution_count": 24,
   "metadata": {},
   "outputs": [],
   "source": [
    "ar = \"tuf.faː.ħa\" # تفاحة\n",
    "en = \"ˈæp.əl\" # apple\n",
    "es = \"manˈsana\" # manzana\n",
    "fr = \"pɔm\" # pomme\n",
    "ru = \"ˈjabləkə\" # яблоко\n",
    "zh = \"pʰʲə́ŋkʷǒː\" # 苹果"
   ]
  },
  {
   "cell_type": "code",
   "execution_count": 26,
   "metadata": {},
   "outputs": [],
   "source": [
    "all_langs = [ar, en, es, fr, ru, zh]"
   ]
  },
  {
   "cell_type": "code",
   "execution_count": 25,
   "metadata": {},
   "outputs": [],
   "source": [
    "ft = panphon.FeatureTable()"
   ]
  },
  {
   "cell_type": "code",
   "execution_count": 111,
   "metadata": {},
   "outputs": [],
   "source": [
    "fts_mat = [\n",
    "    [\n",
    "        tuple(fts)\n",
    "        for fts in ft.word_to_vector_list(l, numeric=True)\n",
    "    ]\n",
    "    for l in all_langs\n",
    "]"
   ]
  },
  {
   "cell_type": "code",
   "execution_count": 124,
   "metadata": {},
   "outputs": [],
   "source": [
    "vect_to_ft = {k: v for k, v in enumerate(set([v for w in fts_mat for v in w]))}"
   ]
  },
  {
   "cell_type": "code",
   "execution_count": 125,
   "metadata": {},
   "outputs": [],
   "source": [
    "ft_to_vect = {v: k for k, v in vect_to_ft.items()}"
   ]
  },
  {
   "cell_type": "code",
   "execution_count": 127,
   "metadata": {},
   "outputs": [
    {
     "data": {
      "text/plain": [
       "[[5, 15, 13, 13, 18, 17, 16],\n",
       " [16, 11, 4, 7],\n",
       " [14, 16, 8, 12, 16, 8, 16],\n",
       " [11, 9, 14],\n",
       " [19, 16, 1, 7, 4, 6, 4],\n",
       " [3, 4, 0, 10, 2]]"
      ]
     },
     "execution_count": 127,
     "metadata": {},
     "output_type": "execute_result"
    }
   ],
   "source": [
    "[\n",
    "    [\n",
    "        ft_to_vect[ft]\n",
    "        for ft in word\n",
    "    ]\n",
    "    for word in fts_mat\n",
    "]"
   ]
  },
  {
   "cell_type": "code",
   "execution_count": null,
   "metadata": {},
   "outputs": [],
   "source": []
  }
 ],
 "metadata": {
  "kernelspec": {
   "display_name": "Python 3",
   "language": "python",
   "name": "python3"
  },
  "language_info": {
   "codemirror_mode": {
    "name": "ipython",
    "version": 3
   },
   "file_extension": ".py",
   "mimetype": "text/x-python",
   "name": "python",
   "nbconvert_exporter": "python",
   "pygments_lexer": "ipython3",
   "version": "3.8.3"
  }
 },
 "nbformat": 4,
 "nbformat_minor": 4
}
